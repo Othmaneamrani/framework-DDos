{
 "cells": [
  {
   "cell_type": "code",
   "execution_count": 148,
   "id": "2c8bbbcb-0798-4971-8bc8-84de311cb69c",
   "metadata": {},
   "outputs": [
    {
     "name": "stdout",
     "output_type": "stream",
     "text": [
      "Flow ID             225745\n",
      "Source IP           225745\n",
      "Source Port         225745\n",
      "Destination IP      225745\n",
      "Destination Port    225745\n",
      "                     ...  \n",
      "Idle Mean           225745\n",
      "Idle Std            225745\n",
      "Idle Max            225745\n",
      "Idle Min            225745\n",
      "Label               225745\n",
      "Length: 85, dtype: int64\n"
     ]
    }
   ],
   "source": [
    "import pandas as pd\n",
    "import numpy as np\n",
    "from sklearn.model_selection import train_test_split\n",
    "from sklearn.preprocessing import MinMaxScaler\n",
    "from tensorflow.keras.models import Sequential\n",
    "from tensorflow.keras.layers import LSTM, Dense, Dropout\n",
    "from tensorflow.keras.utils import to_categorical\n",
    "\n",
    "data = pd.read_csv('./DDos-dataset/DDos.csv') \n",
    "print(data.count())\n",
    "\n",
    "columns_to_keep = [\n",
    "    'Flow Duration', 'Total Fwd Packets', 'Total Backward Packets', \n",
    "    'Flow Bytes/s', 'Flow Packets/s', 'Flow IAT Mean', 'Fwd IAT Mean', \n",
    "    'Bwd IAT Mean', 'FIN Flag Count', 'SYN Flag Count', 'RST Flag Count', \n",
    "    'Down/Up Ratio', 'Average Packet Size', 'Subflow Fwd Packets', \n",
    "    'Subflow Bwd Packets', 'Init_Win_bytes_forward', 'Init_Win_bytes_backward', \n",
    "    'Idle Mean', 'Idle Std', 'Label'\n",
    "]\n",
    "data = data[columns_to_keep]"
   ]
  },
  {
   "cell_type": "code",
   "execution_count": 149,
   "id": "61b75889-b7de-46a2-a3e8-332c6ad0725a",
   "metadata": {},
   "outputs": [],
   "source": [
    "data['Label'] = data['Label'].apply(lambda x: 0 if x == 'BENIGN' else 1)\n",
    "\n",
    "data.replace([np.inf, -np.inf], np.nan, inplace=True)\n",
    "\n",
    "data.fillna(data.mean(), inplace=True)\n",
    "\n",
    "\n",
    "X = data.drop(columns=['Label']).values\n",
    "y = data['Label'].values\n",
    "\n",
    "scaler = MinMaxScaler()\n",
    "X = scaler.fit_transform(X)\n",
    "\n",
    "X_train, X_temp, y_train, y_temp = train_test_split(X, y, test_size=0.3, random_state=42)\n",
    "X_val, X_test, y_val, y_test = train_test_split(X_temp, y_temp, test_size=0.5, random_state=42)\n",
    "\n",
    "X_train = X_train.reshape((X_train.shape[0], 1, X_train.shape[1]))\n",
    "X_val = X_val.reshape((X_val.shape[0], 1, X_val.shape[1]))\n",
    "X_test = X_test.reshape((X_test.shape[0], 1, X_test.shape[1]))"
   ]
  },
  {
   "cell_type": "code",
   "execution_count": 123,
   "id": "1edcf28c-a31d-4cdc-b3ca-d1b4ca5acc26",
   "metadata": {},
   "outputs": [],
   "source": [
    "y_train = to_categorical(y_train)\n",
    "y_val = to_categorical(y_val)\n",
    "y_test = to_categorical(y_test)\n",
    "\n",
    "model = Sequential()\n",
    "model.add(LSTM(64, input_shape=(X_train.shape[1], X_train.shape[2]), return_sequences=True))\n",
    "model.add(Dropout(0.2))\n",
    "model.add(LSTM(32, return_sequences=False))\n",
    "model.add(Dropout(0.2))\n",
    "model.add(Dense(16, activation='relu'))\n",
    "model.add(Dense(2, activation='softmax')) \n",
    "\n",
    "model.compile(optimizer='adam', loss='categorical_crossentropy', metrics=['accuracy'])"
   ]
  },
  {
   "cell_type": "code",
   "execution_count": 125,
   "id": "c28388d9-2f0c-40e4-8f81-a1f8deca7958",
   "metadata": {},
   "outputs": [
    {
     "name": "stdout",
     "output_type": "stream",
     "text": [
      "Epoch 1/20\n",
      "4939/4939 [==============================] - 18s 3ms/step - loss: 0.1405 - accuracy: 0.9488 - val_loss: 0.0745 - val_accuracy: 0.9668\n",
      "Epoch 2/20\n",
      "4939/4939 [==============================] - 15s 3ms/step - loss: 0.0545 - accuracy: 0.9833 - val_loss: 0.0330 - val_accuracy: 0.9882\n",
      "Epoch 3/20\n",
      "4939/4939 [==============================] - 15s 3ms/step - loss: 0.0342 - accuracy: 0.9886 - val_loss: 0.0282 - val_accuracy: 0.9889\n",
      "Epoch 4/20\n",
      "4939/4939 [==============================] - 15s 3ms/step - loss: 0.0287 - accuracy: 0.9903 - val_loss: 0.0243 - val_accuracy: 0.9938\n",
      "Epoch 5/20\n",
      "4939/4939 [==============================] - 16s 3ms/step - loss: 0.0245 - accuracy: 0.9925 - val_loss: 0.0202 - val_accuracy: 0.9950\n",
      "Epoch 6/20\n",
      "4939/4939 [==============================] - 16s 3ms/step - loss: 0.0198 - accuracy: 0.9944 - val_loss: 0.0155 - val_accuracy: 0.9959\n",
      "Epoch 7/20\n",
      "4939/4939 [==============================] - 16s 3ms/step - loss: 0.0162 - accuracy: 0.9958 - val_loss: 0.0127 - val_accuracy: 0.9971\n",
      "Epoch 8/20\n",
      "4939/4939 [==============================] - 16s 3ms/step - loss: 0.0133 - accuracy: 0.9966 - val_loss: 0.0120 - val_accuracy: 0.9967\n",
      "Epoch 9/20\n",
      "4939/4939 [==============================] - 16s 3ms/step - loss: 0.0117 - accuracy: 0.9970 - val_loss: 0.0099 - val_accuracy: 0.9974\n",
      "Epoch 10/20\n",
      "4939/4939 [==============================] - 16s 3ms/step - loss: 0.0104 - accuracy: 0.9975 - val_loss: 0.0090 - val_accuracy: 0.9981\n",
      "Epoch 11/20\n",
      "4939/4939 [==============================] - 16s 3ms/step - loss: 0.0107 - accuracy: 0.9973 - val_loss: 0.0092 - val_accuracy: 0.9982\n",
      "Epoch 12/20\n",
      "4939/4939 [==============================] - 16s 3ms/step - loss: 0.0101 - accuracy: 0.9976 - val_loss: 0.0106 - val_accuracy: 0.9973\n",
      "Epoch 13/20\n",
      "4939/4939 [==============================] - 16s 3ms/step - loss: 0.0095 - accuracy: 0.9978 - val_loss: 0.0078 - val_accuracy: 0.9980\n",
      "Epoch 14/20\n",
      "4939/4939 [==============================] - 16s 3ms/step - loss: 0.0090 - accuracy: 0.9978 - val_loss: 0.0081 - val_accuracy: 0.9981\n",
      "Epoch 15/20\n",
      "4939/4939 [==============================] - 16s 3ms/step - loss: 0.0089 - accuracy: 0.9978 - val_loss: 0.0297 - val_accuracy: 0.9932\n",
      "Epoch 16/20\n",
      "4939/4939 [==============================] - 16s 3ms/step - loss: 0.0086 - accuracy: 0.9978 - val_loss: 0.0099 - val_accuracy: 0.9975\n",
      "Epoch 17/20\n",
      "4939/4939 [==============================] - 17s 3ms/step - loss: 0.0086 - accuracy: 0.9979 - val_loss: 0.0089 - val_accuracy: 0.9979\n",
      "Epoch 18/20\n",
      "4939/4939 [==============================] - 17s 3ms/step - loss: 0.0084 - accuracy: 0.9980 - val_loss: 0.0076 - val_accuracy: 0.9980\n",
      "Epoch 19/20\n",
      "4939/4939 [==============================] - 17s 3ms/step - loss: 0.0080 - accuracy: 0.9980 - val_loss: 0.0080 - val_accuracy: 0.9981\n",
      "Epoch 20/20\n",
      "4939/4939 [==============================] - 17s 3ms/step - loss: 0.0078 - accuracy: 0.9981 - val_loss: 0.0073 - val_accuracy: 0.9984\n"
     ]
    }
   ],
   "source": [
    "history = model.fit(X_train, y_train, epochs=20, batch_size=32, \n",
    "                    validation_data=(X_val, y_val), verbose=1)"
   ]
  },
  {
   "cell_type": "code",
   "execution_count": 127,
   "id": "83eaf02d-9f1f-4392-b44c-ecbabb0caa44",
   "metadata": {},
   "outputs": [
    {
     "name": "stdout",
     "output_type": "stream",
     "text": [
      "1059/1059 [==============================] - 2s 2ms/step - loss: 0.0064 - accuracy: 0.9986\n",
      "Test Accuracy: 1.00\n"
     ]
    }
   ],
   "source": [
    "test_loss, test_accuracy = model.evaluate(X_test, y_test, verbose=1)\n",
    "print(f\"Test Accuracy: {test_accuracy:.2f}\")"
   ]
  },
  {
   "cell_type": "code",
   "execution_count": 129,
   "id": "19328d4c-4525-4c22-922f-373bb53f3c17",
   "metadata": {},
   "outputs": [
    {
     "name": "stdout",
     "output_type": "stream",
     "text": [
      "1/1 [==============================] - 1s 674ms/step\n",
      "1/1 [==============================] - 0s 21ms/step\n",
      "Prediction pour l'attaque DDoS: Non-attaque\n",
      "Prediction pour la session normale: Non-attaque\n"
     ]
    }
   ],
   "source": [
    "attack_example = np.array([[30000, 100, 50, 1.2, 2.5, 1000, 900, 800, 1, 1, 0, 0.9, 1500, 75, 50, 10000, 10000, 500, 10]])\n",
    "attack_example = scaler.transform(attack_example)\n",
    "attack_example = attack_example.reshape((1, 1, attack_example.shape[1]))\n",
    "\n",
    "normal_example = np.array([[5000, 20, 15, 0.5, 1.0, 200, 150, 100, 0, 1, 0, 0.5, 600, 20, 15, 5000, 5000, 100, 5]])\n",
    "normal_example = scaler.transform(normal_example)\n",
    "normal_example = normal_example.reshape((1, 1, normal_example.shape[1]))\n",
    "\n",
    "attack_pred = model.predict(attack_example)\n",
    "normal_pred = model.predict(normal_example)\n",
    "\n",
    "print(\"Prediction pour l'attaque DDoS:\", \"Attaque\" if np.argmax(attack_pred) == 1 else \"Non-attaque\")\n",
    "print(\"Prediction pour la session normale:\", \"Attaque\" if np.argmax(normal_pred) == 1 else \"Non-attaque\")"
   ]
  },
  {
   "cell_type": "code",
   "execution_count": null,
   "id": "3b41c4cb-f4d9-460b-b7e9-dd8f34fddf3f",
   "metadata": {},
   "outputs": [],
   "source": []
  }
 ],
 "metadata": {
  "kernelspec": {
   "display_name": "Python (tf-env)",
   "language": "python",
   "name": "tf-env"
  },
  "language_info": {
   "codemirror_mode": {
    "name": "ipython",
    "version": 3
   },
   "file_extension": ".py",
   "mimetype": "text/x-python",
   "name": "python",
   "nbconvert_exporter": "python",
   "pygments_lexer": "ipython3",
   "version": "3.8.18"
  }
 },
 "nbformat": 4,
 "nbformat_minor": 5
}
