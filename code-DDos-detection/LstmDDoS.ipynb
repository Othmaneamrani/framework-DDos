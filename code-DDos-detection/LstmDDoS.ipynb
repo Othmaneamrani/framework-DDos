{
 "cells": [
  {
   "cell_type": "code",
   "execution_count": 5,
   "id": "4d30a287-1eac-4903-b90d-0a04b54fa2a2",
   "metadata": {},
   "outputs": [],
   "source": [
    "import pandas as pd\n",
    "import numpy as np\n",
    "from sklearn.model_selection import train_test_split\n",
    "from sklearn.preprocessing import MinMaxScaler, LabelEncoder\n",
    "from tensorflow.keras.models import Sequential\n",
    "from tensorflow.keras.layers import Dense, LSTM, Dropout\n",
    "from tensorflow.keras.utils import to_categorical\n",
    "\n",
    "# Charger le fichier CSV\n",
    "csv_file_path = \"network_traffic.csv\"\n",
    "data = pd.read_csv(csv_file_path)\n",
    "\n",
    "# Encoder la colonne \"Label\" (Normal = 0, Attaque = 1)\n",
    "label_encoder = LabelEncoder()\n",
    "data['Label'] = label_encoder.fit_transform(data['Label'])"
   ]
  },
  {
   "cell_type": "code",
   "execution_count": 7,
   "id": "7275bb9c-729a-4ffb-b3d3-31216585a369",
   "metadata": {},
   "outputs": [],
   "source": [
    "features = [\n",
    "    \"Packet_Size\",\n",
    "    \"Packet_Rate\",\n",
    "    \"Byte_Rate\",\n",
    "    \"Unique_IP_Count\"\n",
    "]\n",
    "X = data[features].values\n",
    "y = data['Label'].values\n",
    "scaler = MinMaxScaler()\n",
    "X_scaled = scaler.fit_transform(X)\n",
    "\n",
    "# Reshaper les données pour les rendre compatibles avec LSTM (3D : samples, timesteps, features)\n",
    "# Nous considérons une fenêtre temporelle de 10\n",
    "time_steps = 10\n",
    "X_lstm = []\n",
    "y_lstm = []\n",
    "\n",
    "for i in range(len(X_scaled) - time_steps):\n",
    "    X_lstm.append(X_scaled[i:i+time_steps])\n",
    "    y_lstm.append(y[i+time_steps])\n",
    "\n",
    "X_lstm = np.array(X_lstm)\n",
    "y_lstm = np.array(y_lstm)\n",
    "\n",
    "X_train, X_test, y_train, y_test = train_test_split(X_lstm, y_lstm, test_size=0.2, random_state=42)\n",
    "\n",
    "# Construire le modèle LSTM\n",
    "model = Sequential([\n",
    "    LSTM(50, activation='relu', input_shape=(time_steps, len(features)), return_sequences=True),\n",
    "    Dropout(0.2),\n",
    "    LSTM(50, activation='relu'),\n",
    "    Dropout(0.2),\n",
    "    Dense(1, activation='sigmoid')  # Utilisation de 'sigmoid' pour une classification binaire\n",
    "])\n",
    "\n",
    "# Compiler le modèle\n",
    "model.compile(optimizer='adam', loss='binary_crossentropy', metrics=['accuracy'])"
   ]
  },
  {
   "cell_type": "code",
   "execution_count": 9,
   "id": "d5c0d1b9-fa2f-4704-8006-a73ec2d09a12",
   "metadata": {},
   "outputs": [
    {
     "name": "stdout",
     "output_type": "stream",
     "text": [
      "Epoch 1/20\n",
      "375/375 - 6s - loss: 0.0532 - accuracy: 0.9954 - val_loss: 0.0157 - val_accuracy: 0.9990 - 6s/epoch - 15ms/step\n",
      "Epoch 2/20\n",
      "375/375 - 3s - loss: 0.0030 - accuracy: 0.9997 - val_loss: 0.0060 - val_accuracy: 0.9990 - 3s/epoch - 9ms/step\n",
      "Epoch 3/20\n",
      "375/375 - 3s - loss: 0.0033 - accuracy: 0.9998 - val_loss: 0.0095 - val_accuracy: 0.9990 - 3s/epoch - 8ms/step\n",
      "Epoch 4/20\n",
      "375/375 - 3s - loss: 0.0026 - accuracy: 0.9998 - val_loss: 0.0067 - val_accuracy: 0.9990 - 3s/epoch - 8ms/step\n",
      "Epoch 5/20\n",
      "375/375 - 3s - loss: 0.0022 - accuracy: 0.9998 - val_loss: 0.0058 - val_accuracy: 0.9993 - 3s/epoch - 8ms/step\n",
      "Epoch 6/20\n",
      "375/375 - 4s - loss: 0.0027 - accuracy: 0.9998 - val_loss: 0.0031 - val_accuracy: 0.9993 - 4s/epoch - 11ms/step\n",
      "Epoch 7/20\n",
      "375/375 - 4s - loss: 0.0014 - accuracy: 0.9998 - val_loss: 0.0028 - val_accuracy: 0.9997 - 4s/epoch - 11ms/step\n",
      "Epoch 8/20\n",
      "375/375 - 4s - loss: 0.0017 - accuracy: 0.9998 - val_loss: 0.0027 - val_accuracy: 0.9997 - 4s/epoch - 10ms/step\n",
      "Epoch 9/20\n",
      "375/375 - 4s - loss: 0.0013 - accuracy: 0.9998 - val_loss: 0.0037 - val_accuracy: 0.9997 - 4s/epoch - 10ms/step\n",
      "Epoch 10/20\n",
      "375/375 - 4s - loss: 6.8179e-04 - accuracy: 0.9999 - val_loss: 0.0025 - val_accuracy: 0.9997 - 4s/epoch - 11ms/step\n",
      "Epoch 11/20\n",
      "375/375 - 4s - loss: 9.5449e-04 - accuracy: 0.9999 - val_loss: 0.0039 - val_accuracy: 0.9997 - 4s/epoch - 11ms/step\n",
      "Epoch 12/20\n",
      "375/375 - 4s - loss: 0.0040 - accuracy: 0.9997 - val_loss: 0.0274 - val_accuracy: 0.9990 - 4s/epoch - 10ms/step\n",
      "Epoch 13/20\n",
      "375/375 - 4s - loss: 0.0043 - accuracy: 0.9998 - val_loss: 0.0198 - val_accuracy: 0.9993 - 4s/epoch - 10ms/step\n",
      "Epoch 14/20\n",
      "375/375 - 4s - loss: 0.0038 - accuracy: 0.9998 - val_loss: 0.0032 - val_accuracy: 0.9997 - 4s/epoch - 11ms/step\n",
      "Epoch 15/20\n",
      "375/375 - 4s - loss: 0.0011 - accuracy: 0.9999 - val_loss: 0.0065 - val_accuracy: 0.9997 - 4s/epoch - 11ms/step\n",
      "Epoch 16/20\n",
      "375/375 - 4s - loss: 0.0020 - accuracy: 0.9999 - val_loss: 0.0046 - val_accuracy: 0.9997 - 4s/epoch - 10ms/step\n",
      "Epoch 17/20\n",
      "375/375 - 4s - loss: 9.9345e-04 - accuracy: 0.9999 - val_loss: 0.0048 - val_accuracy: 0.9997 - 4s/epoch - 10ms/step\n",
      "Epoch 18/20\n",
      "375/375 - 4s - loss: 0.2019 - accuracy: 0.9998 - val_loss: 0.0042 - val_accuracy: 0.9997 - 4s/epoch - 10ms/step\n",
      "Epoch 19/20\n",
      "375/375 - 4s - loss: 8.1203e-04 - accuracy: 0.9999 - val_loss: 0.0030 - val_accuracy: 0.9997 - 4s/epoch - 10ms/step\n",
      "Epoch 20/20\n",
      "375/375 - 4s - loss: 6.3929e-04 - accuracy: 0.9999 - val_loss: 0.0038 - val_accuracy: 0.9997 - 4s/epoch - 10ms/step\n"
     ]
    }
   ],
   "source": [
    "# Entraîner le modèle\n",
    "history = model.fit(\n",
    "    X_train, y_train,\n",
    "    epochs=20,\n",
    "    batch_size=32,\n",
    "    validation_data=(X_test, y_test),\n",
    "    verbose=2\n",
    ")"
   ]
  },
  {
   "cell_type": "code",
   "execution_count": 11,
   "id": "68c5e676-41b3-4e4a-be31-fa7125cc4c1a",
   "metadata": {},
   "outputs": [
    {
     "name": "stdout",
     "output_type": "stream",
     "text": [
      "94/94 - 0s - loss: 0.0038 - accuracy: 0.9997 - 257ms/epoch - 3ms/step\n",
      "Loss sur le test: 0.0038\n",
      "Précision sur le test: 0.9997\n"
     ]
    }
   ],
   "source": [
    "test_loss, test_accuracy = model.evaluate(X_test, y_test, verbose=2)\n",
    "print(f\"Loss sur le test: {test_loss:.4f}\")\n",
    "print(f\"Précision sur le test: {test_accuracy:.4f}\")"
   ]
  }
 ],
 "metadata": {
  "kernelspec": {
   "display_name": "Python (tf-env)",
   "language": "python",
   "name": "tf-env"
  },
  "language_info": {
   "codemirror_mode": {
    "name": "ipython",
    "version": 3
   },
   "file_extension": ".py",
   "mimetype": "text/x-python",
   "name": "python",
   "nbconvert_exporter": "python",
   "pygments_lexer": "ipython3",
   "version": "3.8.18"
  }
 },
 "nbformat": 4,
 "nbformat_minor": 5
}
