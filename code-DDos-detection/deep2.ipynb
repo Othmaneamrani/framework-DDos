{
 "cells": [
  {
   "cell_type": "code",
   "execution_count": 10,
   "id": "8f256177-1316-4e03-ab3f-2235212ecd16",
   "metadata": {},
   "outputs": [],
   "source": [
    "import pandas as pd\n",
    "import numpy as np\n",
    "from sklearn.model_selection import train_test_split\n",
    "from sklearn.preprocessing import MinMaxScaler, LabelEncoder\n",
    "from tensorflow.keras.models import Sequential\n",
    "from tensorflow.keras.layers import LSTM, Dense, Dropout\n",
    "from tensorflow.keras.utils import to_categorical\n",
    "\n",
    "# 1. Chargement et préparation des données\n",
    "columns_to_keep = [\n",
    "    'Flow Duration', 'Total Fwd Packets', 'Total Backward Packets', \n",
    "    'Flow Bytes/s', 'Flow Packets/s', 'Flow IAT Mean', 'Fwd IAT Mean', \n",
    "    'Bwd IAT Mean', 'FIN Flag Count', 'SYN Flag Count', 'RST Flag Count', \n",
    "    'Down/Up Ratio', 'Average Packet Size', 'Subflow Fwd Packets', \n",
    "    'Subflow Bwd Packets', 'Init_Win_bytes_forward', 'Init_Win_bytes_backward', \n",
    "    'Idle Mean', 'Idle Std', 'Label'\n",
    "]\n",
    "\n",
    "# Charger le dataset\n",
    "data = pd.read_csv(\"./DDos-dataset/DDos.csv\")\n",
    "\n",
    "# Garder uniquement les colonnes nécessaires\n",
    "data = data[columns_to_keep]\n",
    "\n",
    "# Convertir les labels en valeurs binaires\n",
    "data['Label'] = data['Label'].apply(lambda x: 1 if x == 'DDoS' else 0)\n",
    "\n",
    "data.replace([np.inf, -np.inf], np.nan, inplace=True)\n",
    "\n",
    "data.fillna(data.mean(), inplace=True)\n",
    "\n",
    "# Séparer les caractéristiques et la cible\n",
    "X = data.drop('Label', axis=1).values\n",
    "y = data['Label'].values\n",
    "\n",
    "# Normalisation des données\n",
    "scaler = MinMaxScaler()\n",
    "X = scaler.fit_transform(X)\n",
    "\n",
    "# Conversion des labels en encodage one-hot\n",
    "y = to_categorical(y)\n",
    "\n",
    "# Division en ensembles d'entraînement, de validation et de test\n",
    "X_train, X_temp, y_train, y_temp = train_test_split(X, y, test_size=0.3, random_state=42)\n",
    "X_val, X_test, y_val, y_test = train_test_split(X_temp, y_temp, test_size=0.5, random_state=42)\n",
    "\n",
    "# Reshape pour LSTM (ajout de la dimension temporelle)\n",
    "X_train = X_train.reshape((X_train.shape[0], 1, X_train.shape[1]))\n",
    "X_val = X_val.reshape((X_val.shape[0], 1, X_val.shape[1]))\n",
    "X_test = X_test.reshape((X_test.shape[0], 1, X_test.shape[1]))\n",
    "\n",
    "# 2. Création du modèle LSTM\n",
    "model = Sequential()\n",
    "model.add(LSTM(64, input_shape=(X_train.shape[1], X_train.shape[2]), return_sequences=True))\n",
    "model.add(Dropout(0.2))\n",
    "model.add(LSTM(32, return_sequences=False))\n",
    "model.add(Dropout(0.2))\n",
    "model.add(Dense(16, activation='relu'))\n",
    "model.add(Dense(2, activation='softmax'))\n",
    "\n",
    "# Compilation du modèle\n",
    "model.compile(optimizer='adam', loss='categorical_crossentropy', metrics=['accuracy'])\n",
    "\n"
   ]
  },
  {
   "cell_type": "code",
   "execution_count": 12,
   "id": "7f5afdf3-36b5-4d78-8cd1-a5c055bb3199",
   "metadata": {},
   "outputs": [
    {
     "name": "stdout",
     "output_type": "stream",
     "text": [
      "Epoch 1/10\n",
      "2470/2470 [==============================] - 14s 4ms/step - loss: 0.1674 - accuracy: 0.9380 - val_loss: 0.0974 - val_accuracy: 0.9625\n",
      "Epoch 2/10\n",
      "2470/2470 [==============================] - 9s 3ms/step - loss: 0.0783 - accuracy: 0.9764 - val_loss: 0.0573 - val_accuracy: 0.9850\n",
      "Epoch 3/10\n",
      "2470/2470 [==============================] - 9s 4ms/step - loss: 0.0446 - accuracy: 0.9861 - val_loss: 0.0331 - val_accuracy: 0.9883\n",
      "Epoch 4/10\n",
      "2470/2470 [==============================] - 9s 3ms/step - loss: 0.0340 - accuracy: 0.9888 - val_loss: 0.0299 - val_accuracy: 0.9894\n",
      "Epoch 5/10\n",
      "2470/2470 [==============================] - 9s 3ms/step - loss: 0.0310 - accuracy: 0.9896 - val_loss: 0.0271 - val_accuracy: 0.9894\n",
      "Epoch 6/10\n",
      "2470/2470 [==============================] - 9s 3ms/step - loss: 0.0273 - accuracy: 0.9915 - val_loss: 0.0268 - val_accuracy: 0.9895\n",
      "Epoch 7/10\n",
      "2470/2470 [==============================] - 9s 4ms/step - loss: 0.0239 - accuracy: 0.9930 - val_loss: 0.0221 - val_accuracy: 0.9948\n",
      "Epoch 8/10\n",
      "2470/2470 [==============================] - 9s 4ms/step - loss: 0.0196 - accuracy: 0.9949 - val_loss: 0.0167 - val_accuracy: 0.9962\n",
      "Epoch 9/10\n",
      "2470/2470 [==============================] - 9s 4ms/step - loss: 0.0161 - accuracy: 0.9959 - val_loss: 0.0134 - val_accuracy: 0.9961\n",
      "Epoch 10/10\n",
      "2470/2470 [==============================] - 9s 4ms/step - loss: 0.0135 - accuracy: 0.9967 - val_loss: 0.0125 - val_accuracy: 0.9973\n"
     ]
    }
   ],
   "source": [
    "# 3. Entraînement du modèle\n",
    "history = model.fit(X_train, y_train, epochs=10, batch_size=64, \n",
    "                    validation_data=(X_val, y_val), verbose=1)\n"
   ]
  },
  {
   "cell_type": "code",
   "execution_count": 14,
   "id": "1e8530b3-2308-4583-a4c9-6b1cf06e4f46",
   "metadata": {},
   "outputs": [
    {
     "name": "stdout",
     "output_type": "stream",
     "text": [
      "1059/1059 [==============================] - 1s 1ms/step - loss: 0.0118 - accuracy: 0.9976\n",
      "Test Accuracy: 99.76%\n",
      "1/1 [==============================] - 1s 976ms/step\n",
      "1/1 [==============================] - 0s 25ms/step\n",
      "Prédiction pour attaque DDoS: BENIGN\n",
      "Prédiction pour non-attaque: BENIGN\n"
     ]
    }
   ],
   "source": [
    "# Évaluation du modèle\n",
    "loss, accuracy = model.evaluate(X_test, y_test, verbose=1)\n",
    "print(f\"Test Accuracy: {accuracy * 100:.2f}%\")\n",
    "\n",
    "# Exemple de test avec une attaque DDoS et une donnée non-attaque\n",
    "sample_ddos = np.array([[3000, 15, 15, 1500000, 5000, 1000, 1500, 1500, 1, 1, 0, 1, 120, 10, 10, 4000, 4000, 30000, 5000]])\n",
    "sample_benign = np.array([[100, 1, 1, 10000, 100, 10, 10, 10, 0, 0, 0, 1, 80, 1, 1, 2000, 2000, 500, 100]])\n",
    "\n",
    "# Normaliser les exemples de test\n",
    "sample_ddos = scaler.transform(sample_ddos).reshape((1, 1, sample_ddos.shape[1]))\n",
    "sample_benign = scaler.transform(sample_benign).reshape((1, 1, sample_benign.shape[1]))\n",
    "\n",
    "# Prédictions\n",
    "pred_ddos = model.predict(sample_ddos)\n",
    "pred_benign = model.predict(sample_benign)\n",
    "\n",
    "print(\"Prédiction pour attaque DDoS:\", \"DDoS\" if np.argmax(pred_ddos) == 1 else \"BENIGN\")\n",
    "print(\"Prédiction pour non-attaque:\", \"DDoS\" if np.argmax(pred_benign) == 1 else \"BENIGN\")"
   ]
  },
  {
   "cell_type": "code",
   "execution_count": null,
   "id": "a3b92ab4-6bca-4685-a7a7-4ebae7c52b2a",
   "metadata": {},
   "outputs": [],
   "source": []
  }
 ],
 "metadata": {
  "kernelspec": {
   "display_name": "Python (tf-env)",
   "language": "python",
   "name": "tf-env"
  },
  "language_info": {
   "codemirror_mode": {
    "name": "ipython",
    "version": 3
   },
   "file_extension": ".py",
   "mimetype": "text/x-python",
   "name": "python",
   "nbconvert_exporter": "python",
   "pygments_lexer": "ipython3",
   "version": "3.8.18"
  }
 },
 "nbformat": 4,
 "nbformat_minor": 5
}
